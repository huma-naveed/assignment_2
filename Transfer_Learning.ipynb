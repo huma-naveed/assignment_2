{
  "nbformat": 4,
  "nbformat_minor": 0,
  "metadata": {
    "colab": {
      "provenance": []
    },
    "kernelspec": {
      "name": "python3",
      "display_name": "Python 3"
    },
    "language_info": {
      "name": "python"
    }
  },
  "cells": [
    {
      "cell_type": "code",
      "execution_count": 2,
      "metadata": {
        "colab": {
          "base_uri": "https://localhost:8080/"
        },
        "id": "CMcjYWspA9nd",
        "outputId": "b9a037b2-05e4-4f05-be73-9bcb32845330"
      },
      "outputs": [
        {
          "output_type": "stream",
          "name": "stdout",
          "text": [
            "Mounted at /content/drive\n"
          ]
        }
      ],
      "source": [
        "from google.colab import drive\n",
        "drive.mount('/content/drive')\n",
        "\n"
      ]
    },
    {
      "cell_type": "code",
      "source": [
        "!pwd"
      ],
      "metadata": {
        "colab": {
          "base_uri": "https://localhost:8080/"
        },
        "id": "r2PIejEaMANq",
        "outputId": "57917fed-dd2c-43d1-b3dc-c925eb795fdf"
      },
      "execution_count": 3,
      "outputs": [
        {
          "output_type": "stream",
          "name": "stdout",
          "text": [
            "/content\n"
          ]
        }
      ]
    },
    {
      "cell_type": "code",
      "source": [
        "%cd /content/drive/MyDrive/data_assign_2/hand_written_digits"
      ],
      "metadata": {
        "colab": {
          "base_uri": "https://localhost:8080/"
        },
        "id": "1paXpdqLMH0J",
        "outputId": "3885d907-eef1-41dd-c714-505dbf867c36"
      },
      "execution_count": 4,
      "outputs": [
        {
          "output_type": "stream",
          "name": "stdout",
          "text": [
            "/content/drive/MyDrive/data_assign_2/hand_written_digits\n"
          ]
        }
      ]
    },
    {
      "cell_type": "code",
      "source": [
        "import os\n",
        "import numpy as np\n",
        "import tensorflow as tf\n",
        "import matplotlib.pyplot as plt\n",
        "from tensorflow.keras.models import Sequential\n",
        "from tensorflow.keras.layers import Flatten, Dense, Dropout\n",
        "from tensorflow.keras.applications import VGG16\n",
        "from tensorflow.keras.preprocessing import image\n",
        "from tensorflow.keras.preprocessing import image_dataset_from_directory\n",
        "from tensorflow.keras.layers import Dense, GlobalAveragePooling2D\n",
        "from tensorflow.keras.models import Model"
      ],
      "metadata": {
        "id": "-xRTGHBPMOtu"
      },
      "execution_count": 5,
      "outputs": []
    },
    {
      "cell_type": "code",
      "source": [
        "# Define directory path to your dataset\n",
        "data_dir = \"/content/drive/MyDrive/data_assign_2/hand_written_digits\"\n",
        "\n",
        "# Set parameters for data loader\n",
        "batch_size = 32\n",
        "img_height = 100\n",
        "img_width = 100\n",
        "\n",
        "train_ds = tf.keras.utils.image_dataset_from_directory(\n",
        "    data_dir,\n",
        "    labels='inferred',\n",
        "    label_mode='int',  # 'binary' for two classes,'categorical' for multi-classes\n",
        "    validation_split=0.2,\n",
        "    subset=\"training\",\n",
        "    seed=123,\n",
        "    image_size=(img_width, img_height),\n",
        "    batch_size=batch_size,\n",
        ")\n",
        "\n",
        "\n",
        "validation_data = tf.keras.utils.image_dataset_from_directory(\n",
        "    data_dir,\n",
        "    labels='inferred',\n",
        "    label_mode='int',  # Change to 'binary' if you have two classes\n",
        "    validation_split=0.2,\n",
        "    subset=\"validation\",\n",
        "    seed=123,\n",
        "    image_size=(img_width, img_height),\n",
        "    batch_size=batch_size,\n",
        ")"
      ],
      "metadata": {
        "colab": {
          "base_uri": "https://localhost:8080/"
        },
        "id": "A44D8eCHVbCt",
        "outputId": "99e19795-03ce-48e4-fece-5a9ba7d0565a"
      },
      "execution_count": 6,
      "outputs": [
        {
          "output_type": "stream",
          "name": "stdout",
          "text": [
            "Found 4658 files belonging to 3 classes.\n",
            "Using 3727 files for training.\n",
            "Found 4658 files belonging to 3 classes.\n",
            "Using 931 files for validation.\n"
          ]
        }
      ]
    },
    {
      "cell_type": "markdown",
      "source": [
        "# **Transfer Leaning Models**"
      ],
      "metadata": {
        "id": "BnFdUKatOvGm"
      }
    },
    {
      "cell_type": "markdown",
      "source": [
        "1) **vGG16**"
      ],
      "metadata": {
        "id": "idWsTJ7kPMeF"
      }
    },
    {
      "cell_type": "code",
      "source": [
        "# Load the base VGG16 model, excluding the top classification layer\n",
        "base_model = VGG16(weights='imagenet', include_top=False, input_shape=(img_height, img_width, 3))\n",
        "\n"
      ],
      "metadata": {
        "colab": {
          "base_uri": "https://localhost:8080/"
        },
        "id": "ByVDLJKEPEEv",
        "outputId": "e03b0b90-576a-43c0-d6c6-e710779df38f"
      },
      "execution_count": 7,
      "outputs": [
        {
          "output_type": "stream",
          "name": "stdout",
          "text": [
            "Downloading data from https://storage.googleapis.com/tensorflow/keras-applications/vgg16/vgg16_weights_tf_dim_ordering_tf_kernels_notop.h5\n",
            "58889256/58889256 [==============================] - 0s 0us/step\n"
          ]
        }
      ]
    },
    {
      "cell_type": "code",
      "source": [
        "base_model.input"
      ],
      "metadata": {
        "colab": {
          "base_uri": "https://localhost:8080/"
        },
        "id": "07pvmxUSNd9e",
        "outputId": "e79ff859-8821-4d80-b73f-464baf5d8157"
      },
      "execution_count": 8,
      "outputs": [
        {
          "output_type": "execute_result",
          "data": {
            "text/plain": [
              "<KerasTensor: shape=(None, 100, 100, 3) dtype=float32 (created by layer 'input_1')>"
            ]
          },
          "metadata": {},
          "execution_count": 8
        }
      ]
    },
    {
      "cell_type": "code",
      "source": [
        "# Freeze the layers of the base model\n",
        "for layer in base_model.layers:\n",
        "    layer.trainable = False"
      ],
      "metadata": {
        "id": "7MWUszB8MpXv"
      },
      "execution_count": 9,
      "outputs": []
    },
    {
      "cell_type": "code",
      "source": [
        "# Add new top layers\n",
        "x = Flatten()(base_model.output)\n",
        "x = Dense(128, activation='relu')(x)\n",
        "x = Dropout(0.5)(x)\n",
        "predictions = Dense(3, activation='softmax')(x)  # Assuming 3 classes:\n"
      ],
      "metadata": {
        "id": "1PPWnWGk6DHl"
      },
      "execution_count": 10,
      "outputs": []
    },
    {
      "cell_type": "code",
      "source": [
        "# create a new model by combining pre-trained VGG16 with your own top layers\n",
        "model_VGG16 = Model(inputs=base_model.input, outputs=predictions)"
      ],
      "metadata": {
        "id": "gt24upYeN3px"
      },
      "execution_count": 11,
      "outputs": []
    },
    {
      "cell_type": "code",
      "source": [
        "model_VGG16.compile(optimizer=tf.keras.optimizers.Adam(1e-5),\n",
        "                    loss='sparse_categorical_crossentropy',\n",
        "                    metrics=['accuracy'])\n"
      ],
      "metadata": {
        "id": "Yeup8EIJVhaz"
      },
      "execution_count": 12,
      "outputs": []
    },
    {
      "cell_type": "code",
      "source": [
        "#model_VGG16.compile(optimizer='adam',\n",
        "             #       loss='categorical_crossentropy',\n",
        "              #      metrics=['accuracy'])\n"
      ],
      "metadata": {
        "id": "YpyRAoWE9woT"
      },
      "execution_count": 13,
      "outputs": []
    },
    {
      "cell_type": "code",
      "source": [
        "#model_VGG16.compile(loss='sparse_categorical_crossentropy', optimizer=tf.optimizers.SGD(learning_rate=0.001), metrics=['accuracy'])"
      ],
      "metadata": {
        "id": "i3uKx4KrN7ye"
      },
      "execution_count": 14,
      "outputs": []
    },
    {
      "cell_type": "code",
      "source": [
        "model_VGG16.summary()"
      ],
      "metadata": {
        "colab": {
          "base_uri": "https://localhost:8080/"
        },
        "id": "vXRTLkLC8Qwx",
        "outputId": "166750d2-dca9-43fd-dca1-b5d72d55eafe"
      },
      "execution_count": 15,
      "outputs": [
        {
          "output_type": "stream",
          "name": "stdout",
          "text": [
            "Model: \"model\"\n",
            "_________________________________________________________________\n",
            " Layer (type)                Output Shape              Param #   \n",
            "=================================================================\n",
            " input_1 (InputLayer)        [(None, 100, 100, 3)]     0         \n",
            "                                                                 \n",
            " block1_conv1 (Conv2D)       (None, 100, 100, 64)      1792      \n",
            "                                                                 \n",
            " block1_conv2 (Conv2D)       (None, 100, 100, 64)      36928     \n",
            "                                                                 \n",
            " block1_pool (MaxPooling2D)  (None, 50, 50, 64)        0         \n",
            "                                                                 \n",
            " block2_conv1 (Conv2D)       (None, 50, 50, 128)       73856     \n",
            "                                                                 \n",
            " block2_conv2 (Conv2D)       (None, 50, 50, 128)       147584    \n",
            "                                                                 \n",
            " block2_pool (MaxPooling2D)  (None, 25, 25, 128)       0         \n",
            "                                                                 \n",
            " block3_conv1 (Conv2D)       (None, 25, 25, 256)       295168    \n",
            "                                                                 \n",
            " block3_conv2 (Conv2D)       (None, 25, 25, 256)       590080    \n",
            "                                                                 \n",
            " block3_conv3 (Conv2D)       (None, 25, 25, 256)       590080    \n",
            "                                                                 \n",
            " block3_pool (MaxPooling2D)  (None, 12, 12, 256)       0         \n",
            "                                                                 \n",
            " block4_conv1 (Conv2D)       (None, 12, 12, 512)       1180160   \n",
            "                                                                 \n",
            " block4_conv2 (Conv2D)       (None, 12, 12, 512)       2359808   \n",
            "                                                                 \n",
            " block4_conv3 (Conv2D)       (None, 12, 12, 512)       2359808   \n",
            "                                                                 \n",
            " block4_pool (MaxPooling2D)  (None, 6, 6, 512)         0         \n",
            "                                                                 \n",
            " block5_conv1 (Conv2D)       (None, 6, 6, 512)         2359808   \n",
            "                                                                 \n",
            " block5_conv2 (Conv2D)       (None, 6, 6, 512)         2359808   \n",
            "                                                                 \n",
            " block5_conv3 (Conv2D)       (None, 6, 6, 512)         2359808   \n",
            "                                                                 \n",
            " block5_pool (MaxPooling2D)  (None, 3, 3, 512)         0         \n",
            "                                                                 \n",
            " flatten (Flatten)           (None, 4608)              0         \n",
            "                                                                 \n",
            " dense (Dense)               (None, 128)               589952    \n",
            "                                                                 \n",
            " dropout (Dropout)           (None, 128)               0         \n",
            "                                                                 \n",
            " dense_1 (Dense)             (None, 3)                 387       \n",
            "                                                                 \n",
            "=================================================================\n",
            "Total params: 15305027 (58.38 MB)\n",
            "Trainable params: 590339 (2.25 MB)\n",
            "Non-trainable params: 14714688 (56.13 MB)\n",
            "_________________________________________________________________\n"
          ]
        }
      ]
    },
    {
      "cell_type": "code",
      "source": [
        "initial_epochs = 10  # Adjust as per your requirement\n",
        "history = model_VGG16.fit(\n",
        "    train_ds,\n",
        "    validation_data=validation_data,\n",
        "    epochs=initial_epochs\n",
        ")\n"
      ],
      "metadata": {
        "colab": {
          "base_uri": "https://localhost:8080/"
        },
        "id": "OMCxsqox8w1L",
        "outputId": "92a2fc2a-498e-4c06-b58b-2a54c1a6ec79"
      },
      "execution_count": 16,
      "outputs": [
        {
          "output_type": "stream",
          "name": "stdout",
          "text": [
            "Epoch 1/10\n",
            "117/117 [==============================] - 640s 5s/step - loss: 6.9111 - accuracy: 0.5299 - val_loss: 0.3963 - val_accuracy: 0.9227\n",
            "Epoch 2/10\n",
            "117/117 [==============================] - 598s 5s/step - loss: 2.5707 - accuracy: 0.7588 - val_loss: 0.1790 - val_accuracy: 0.9710\n",
            "Epoch 3/10\n",
            "117/117 [==============================] - 601s 5s/step - loss: 1.3694 - accuracy: 0.8511 - val_loss: 0.1212 - val_accuracy: 0.9796\n",
            "Epoch 4/10\n",
            "117/117 [==============================] - 598s 5s/step - loss: 0.8682 - accuracy: 0.8932 - val_loss: 0.1053 - val_accuracy: 0.9807\n",
            "Epoch 5/10\n",
            "117/117 [==============================] - 602s 5s/step - loss: 0.7230 - accuracy: 0.9206 - val_loss: 0.1016 - val_accuracy: 0.9807\n",
            "Epoch 6/10\n",
            "117/117 [==============================] - 601s 5s/step - loss: 0.4549 - accuracy: 0.9418 - val_loss: 0.0862 - val_accuracy: 0.9860\n",
            "Epoch 7/10\n",
            "117/117 [==============================] - 597s 5s/step - loss: 0.4988 - accuracy: 0.9383 - val_loss: 0.0816 - val_accuracy: 0.9871\n",
            "Epoch 8/10\n",
            "117/117 [==============================] - 571s 5s/step - loss: 0.4142 - accuracy: 0.9528 - val_loss: 0.0834 - val_accuracy: 0.9860\n",
            "Epoch 9/10\n",
            "117/117 [==============================] - 600s 5s/step - loss: 0.3566 - accuracy: 0.9544 - val_loss: 0.0729 - val_accuracy: 0.9882\n",
            "Epoch 10/10\n",
            "117/117 [==============================] - 572s 5s/step - loss: 0.2888 - accuracy: 0.9635 - val_loss: 0.0679 - val_accuracy: 0.9882\n"
          ]
        }
      ]
    },
    {
      "cell_type": "code",
      "source": [
        "# evaluate the model\n",
        "val_loss, val_accuracy = model_VGG16.evaluate(validation_data)\n",
        "print(f'Validation accuracy: {val_accuracy*100:.2f}%')\n"
      ],
      "metadata": {
        "colab": {
          "base_uri": "https://localhost:8080/"
        },
        "id": "S8_qqz7Q9K1t",
        "outputId": "2c227aa1-9a2a-4f64-9e0d-961cd43eaccf"
      },
      "execution_count": 17,
      "outputs": [
        {
          "output_type": "stream",
          "name": "stdout",
          "text": [
            "30/30 [==============================] - 115s 4s/step - loss: 0.0679 - accuracy: 0.9882\n",
            "Validation accuracy: 98.82%\n"
          ]
        }
      ]
    },
    {
      "cell_type": "code",
      "source": [
        "model_VGG16.save('/content/drive/MyDrive/VGG16_TransferLearning.h5')"
      ],
      "metadata": {
        "colab": {
          "base_uri": "https://localhost:8080/"
        },
        "id": "7F002hHUcaoc",
        "outputId": "c5d967d7-c758-4695-f493-81fcba865a20"
      },
      "execution_count": 18,
      "outputs": [
        {
          "output_type": "stream",
          "name": "stderr",
          "text": [
            "/usr/local/lib/python3.10/dist-packages/keras/src/engine/training.py:3103: UserWarning: You are saving your model as an HDF5 file via `model.save()`. This file format is considered legacy. We recommend using instead the native Keras format, e.g. `model.save('my_model.keras')`.\n",
            "  saving_api.save_model(\n"
          ]
        }
      ]
    },
    {
      "cell_type": "markdown",
      "source": [
        "**fine tuning the model**"
      ],
      "metadata": {
        "id": "ASmfNM5L9b19"
      }
    },
    {
      "cell_type": "code",
      "source": [
        "# Unfreeze some top layers of the base model\n",
        "base_model.trainable = True\n",
        "fine_tune_at = 100  # This is an example, adjust based on your model's architecture\n",
        "\n",
        "# Freeze all the layers before the 'fine_tune_at' layer\n",
        "for layer in base_model.layers[:fine_tune_at]:\n",
        "    layer.trainable = False\n",
        "\n",
        "# Recompile the model with a lower learning rate\n",
        "model_VGG16.compile(optimizer=tf.keras.optimizers.Adam(1e-5),  # Lower learning rate\n",
        "                    loss='sparse_categorical_crossentropy',\n",
        "                    metrics=['accuracy'])\n",
        "\n",
        "# Continue training\n",
        "fine_tune_epochs = 5\n",
        "total_epochs = initial_epochs + fine_tune_epochs\n",
        "\n",
        "history_fine = model_VGG16.fit(train_ds,\n",
        "                               validation_data=validation_data,\n",
        "                               epochs=total_epochs,\n",
        "                               initial_epoch=history.epoch[-1])\n"
      ],
      "metadata": {
        "colab": {
          "base_uri": "https://localhost:8080/"
        },
        "id": "xVBBwCtm9a6-",
        "outputId": "e4e2bea7-89d9-48ed-d38c-a96c2912f38b"
      },
      "execution_count": 19,
      "outputs": [
        {
          "output_type": "stream",
          "name": "stdout",
          "text": [
            "Epoch 10/15\n",
            "117/117 [==============================] - 609s 5s/step - loss: 0.2442 - accuracy: 0.9697 - val_loss: 0.0612 - val_accuracy: 0.9914\n",
            "Epoch 11/15\n",
            "117/117 [==============================] - 610s 5s/step - loss: 0.2108 - accuracy: 0.9726 - val_loss: 0.0614 - val_accuracy: 0.9936\n",
            "Epoch 12/15\n",
            "117/117 [==============================] - 607s 5s/step - loss: 0.1807 - accuracy: 0.9745 - val_loss: 0.0640 - val_accuracy: 0.9936\n",
            "Epoch 13/15\n",
            "117/117 [==============================] - 598s 5s/step - loss: 0.1973 - accuracy: 0.9767 - val_loss: 0.0636 - val_accuracy: 0.9936\n",
            "Epoch 14/15\n",
            "117/117 [==============================] - 601s 5s/step - loss: 0.1083 - accuracy: 0.9852 - val_loss: 0.0618 - val_accuracy: 0.9936\n",
            "Epoch 15/15\n",
            "117/117 [==============================] - 587s 5s/step - loss: 0.1253 - accuracy: 0.9799 - val_loss: 0.0613 - val_accuracy: 0.9936\n"
          ]
        }
      ]
    },
    {
      "cell_type": "code",
      "source": [
        "import matplotlib.pyplot as plt\n",
        "\n",
        "# Combine the history from initial training and fine-tuning\n",
        "total_history = {\n",
        "    'accuracy': history.history['accuracy'] + history_fine.history['accuracy'],\n",
        "    'val_accuracy': history.history['val_accuracy'] + history_fine.history['val_accuracy'],\n",
        "    'loss': history.history['loss'] + history_fine.history['loss'],\n",
        "    'val_loss': history.history['val_loss'] + history_fine.history['val_loss'],\n",
        "}\n",
        "\n",
        "plt.figure(figsize=(12, 5))\n",
        "\n",
        "# Plot accuracy\n",
        "plt.subplot(1, 2, 1)\n",
        "plt.plot(total_history['accuracy'])\n",
        "plt.plot(total_history['val_accuracy'])\n",
        "plt.title('Model Accuracy')\n",
        "plt.ylabel('Accuracy')\n",
        "plt.xlabel('Epoch')\n",
        "plt.legend(['Train', 'Val'], loc='upper left')\n",
        "\n",
        "# Plot loss\n",
        "plt.subplot(1, 2, 2)\n",
        "plt.plot(total_history['loss'])\n",
        "plt.plot(total_history['val_loss'])\n",
        "plt.title('Model Loss')\n",
        "plt.ylabel('Loss')\n",
        "plt.xlabel('Epoch')\n",
        "plt.legend(['Train', 'Val'], loc='upper left')\n",
        "\n",
        "plt.show()\n"
      ],
      "metadata": {
        "colab": {
          "base_uri": "https://localhost:8080/",
          "height": 487
        },
        "id": "dqIwQOU29j0n",
        "outputId": "f84cce8b-6bb3-4287-f8da-d5a2bd4667ed"
      },
      "execution_count": 20,
      "outputs": [
        {
          "output_type": "display_data",
          "data": {
            "text/plain": [
              "<Figure size 1200x500 with 2 Axes>"
            ],
            "image/png": "[encoded data removed]"
          },
          "metadata": {}
        }
      ]
    },
    {
      "cell_type": "code",
      "source": [],
      "metadata": {
        "id": "sIILFuES9kBS"
      },
      "execution_count": 20,
      "outputs": []
    }
  ]
}